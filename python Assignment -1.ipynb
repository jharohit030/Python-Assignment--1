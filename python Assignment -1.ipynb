{
 "cells": [
  {
   "cell_type": "code",
   "execution_count": null,
   "id": "828f6c51",
   "metadata": {},
   "outputs": [],
   "source": [
    "#Question 1:\n",
    "\n",
    "For Loop : A for loop is a control flow statement that executes code repeatedly for a particular number of iterations.The for loop is used when the number of iteration is already known.\n",
    "    \n",
    "    n = [1,2,3]  #initialization\n",
    "    for i in n:  #condition and Updation\n",
    "        print(i)\n",
    "        \n",
    "        \n",
    "While Loop: A loop that executes a single statement or a group of statement for the given true condition. A while loop is used when the number of iterations is unknown.\n",
    "    \n",
    "    i = 1    #initialization\n",
    "    while i<6:    #condition\n",
    "        print(i)\n",
    "        i += 1  #updation"
   ]
  },
  {
   "cell_type": "code",
   "execution_count": 9,
   "id": "e040f6b6",
   "metadata": {},
   "outputs": [
    {
     "name": "stdout",
     "output_type": "stream",
     "text": [
      "55\n",
      "3628800\n",
      "55\n",
      "3628800\n"
     ]
    }
   ],
   "source": [
    "#Question 2:\n",
    "\n",
    "# by using for loop:\n",
    "\n",
    "num = [1,2,3,4,5,6,7,8,9,10]\n",
    "sum = 0\n",
    "product =num[0]\n",
    "\n",
    "for i in num:\n",
    "    sum += i\n",
    "    product= product * i\n",
    "print(sum)\n",
    "print(product)\n",
    "\n",
    "\n",
    "\n",
    "# by using while loop:\n",
    "\n",
    "num = [1,2,3,4,5,6,7,8,9,10]\n",
    "sum = 0\n",
    "product = num[0]\n",
    "i = 1\n",
    "while i<=10:\n",
    "    sum += i\n",
    "    product = product * i\n",
    "    i = i+1\n",
    "print(sum)\n",
    "print(product)\n",
    "\n"
   ]
  },
  {
   "cell_type": "code",
   "execution_count": 1,
   "id": "3cf52d92",
   "metadata": {},
   "outputs": [
    {
     "name": "stdout",
     "output_type": "stream",
     "text": [
      "Enter unit of electricity consumption by month: 310\n",
      "2250.0\n"
     ]
    }
   ],
   "source": [
    "#Question 3:\n",
    "\n",
    "inp = int(input(\"Enter unit of electricity consumption by month: \"))\n",
    "bill = 0\n",
    "if inp <100:\n",
    "    bill = 4.5 * inp\n",
    "elif inp > 100 and inp < 200:\n",
    "    bill =  4.5 * 100 + 6*(inp-100)\n",
    "elif inp > 200 and inp < 300:\n",
    "    bill =  4.5 * 100 + 6 * 100 + 10 *(inp-200)\n",
    "else:\n",
    "    bill = 4.5 * 100 + 6 * 100 + 10 * 100 + (inp-300)* 20\n",
    "print(bill)\n",
    "    \n",
    "    "
   ]
  },
  {
   "cell_type": "code",
   "execution_count": 1,
   "id": "4be338a2",
   "metadata": {},
   "outputs": [
    {
     "name": "stdout",
     "output_type": "stream",
     "text": [
      "[2, 4, 5, 6, 8, 10, 12, 14, 15, 16, 18, 20, 22, 24, 25, 26, 28, 30, 32, 34, 35, 36, 38, 40, 42, 44, 45, 46, 48, 50, 52, 54, 55, 56, 58, 60, 62, 64, 65, 66, 68, 70, 72, 74, 75, 76, 78, 80, 82, 84, 85, 86, 88, 90, 92, 94, 95, 96, 98, 100]\n",
      "[2, 4, 5, 6, 8, 10, 12, 14, 15, 16, 18, 20, 22, 24, 25, 26, 28, 30, 32, 34, 35, 36, 38, 40, 42, 44, 45, 46, 48, 50, 52, 54, 55, 56, 58, 60, 62, 64, 65, 66, 68, 70, 72, 74, 75, 76, 78, 80, 82, 84, 85, 86, 88, 90, 92, 94, 95, 96, 98, 100]\n"
     ]
    }
   ],
   "source": [
    "#Question 4:\n",
    "\n",
    "#by using for loop:\n",
    "\n",
    "l = []\n",
    "for i in range(1,101):\n",
    "    cube = i*i*i\n",
    "    if cube % 4 == 0 or cube % 5 == 0:\n",
    "        l.append(i)\n",
    "    \n",
    "print(l)\n",
    "\n",
    "# by using while loop:\n",
    "\n",
    "l = []\n",
    "i = 1\n",
    "while i<101:\n",
    "    cube = i*i*i\n",
    "    if cube % 4 == 0 or cube % 5 == 0:\n",
    "        l.append(i)\n",
    "    i = i+1\n",
    "print(l)\n"
   ]
  },
  {
   "cell_type": "code",
   "execution_count": 3,
   "id": "bdcd0e6f",
   "metadata": {},
   "outputs": [
    {
     "name": "stdout",
     "output_type": "stream",
     "text": [
      "12\n"
     ]
    }
   ],
   "source": [
    "#Question 5 :\n",
    "\n",
    "string = \"I want to become a data scientist\"\n",
    "vowel = set(\"aeiouAEIOU\")\n",
    "count = 0\n",
    "for i in string:\n",
    "    if i in vowel:\n",
    "        count = count +1\n",
    "print(count)\n"
   ]
  },
  {
   "cell_type": "code",
   "execution_count": null,
   "id": "59b312f6",
   "metadata": {},
   "outputs": [],
   "source": []
  }
 ],
 "metadata": {
  "kernelspec": {
   "display_name": "Python 3 (ipykernel)",
   "language": "python",
   "name": "python3"
  },
  "language_info": {
   "codemirror_mode": {
    "name": "ipython",
    "version": 3
   },
   "file_extension": ".py",
   "mimetype": "text/x-python",
   "name": "python",
   "nbconvert_exporter": "python",
   "pygments_lexer": "ipython3",
   "version": "3.9.13"
  }
 },
 "nbformat": 4,
 "nbformat_minor": 5
}
